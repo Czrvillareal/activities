{
  "nbformat": 4,
  "nbformat_minor": 0,
  "metadata": {
    "colab": {
      "provenance": [],
      "mount_file_id": "https://github.com/Czrvillareal/activities/blob/main/lab1_titanic_villareal.ipynb",
      "authorship_tag": "ABX9TyMv3FZA/1PtDi51C6YE0xXG",
      "include_colab_link": true
    },
    "kernelspec": {
      "name": "python3",
      "display_name": "Python 3"
    },
    "language_info": {
      "name": "python"
    }
  },
  "cells": [
    {
      "cell_type": "markdown",
      "metadata": {
        "id": "view-in-github",
        "colab_type": "text"
      },
      "source": [
        "<a href=\"https://colab.research.google.com/github/Czrvillareal/activities/blob/main/lab1_titanic_villareal.ipynb\" target=\"_parent\"><img src=\"https://colab.research.google.com/assets/colab-badge.svg\" alt=\"Open In Colab\"/></a>"
      ]
    },
    {
      "cell_type": "markdown",
      "source": [
        "# Imports\n"
      ],
      "metadata": {
        "id": "VuUMtnp6nbJn"
      }
    },
    {
      "cell_type": "code",
      "source": [
        "import pandas as pd\n",
        "import matplotlib.pyplot as plt"
      ],
      "metadata": {
        "id": "O3dqqS5Uny_N"
      },
      "execution_count": null,
      "outputs": []
    },
    {
      "cell_type": "markdown",
      "source": [
        "## Lab Instructions\n",
        "\n",
        "### Step 1: Decomposition\n",
        "        1. Open a Jupyter Notebook or any Python environment.\n",
        "        2. Load the Titanic dataset and inspect its structure."
      ],
      "metadata": {
        "id": "NGAZ39IzpVJ0"
      }
    },
    {
      "cell_type": "code",
      "source": [
        "df = pd.read_csv(\"https://raw.githubusercontent.com/Czrvillareal/activities/refs/heads/main/datasets/titanic.csv\")\n",
        "df.head()"
      ],
      "metadata": {
        "id": "RTxgIZHUpgXN"
      },
      "execution_count": null,
      "outputs": []
    },
    {
      "cell_type": "code",
      "source": [],
      "metadata": {
        "id": "Ko64cWEbp8RR"
      },
      "execution_count": null,
      "outputs": []
    }
  ]
}