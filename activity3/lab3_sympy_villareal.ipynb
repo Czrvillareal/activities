{
  "nbformat": 4,
  "nbformat_minor": 0,
  "metadata": {
    "colab": {
      "provenance": [],
      "include_colab_link": true
    },
    "kernelspec": {
      "name": "python3",
      "display_name": "Python 3"
    },
    "language_info": {
      "name": "python"
    }
  },
  "cells": [
    {
      "cell_type": "markdown",
      "metadata": {
        "id": "view-in-github",
        "colab_type": "text"
      },
      "source": [
        "<a href=\"https://colab.research.google.com/github/Czrvillareal/activities/blob/main/lab3_sympy_villareal.ipynb\" target=\"_parent\"><img src=\"https://colab.research.google.com/assets/colab-badge.svg\" alt=\"Open In Colab\"/></a>"
      ]
    },
    {
      "cell_type": "markdown",
      "source": [
        "## Laboratory Activity #3: Introduction to SymPy\n",
        "\n",
        "###Objectives:\n",
        "- Apply basic symbolic calculations using SymPy"
      ],
      "metadata": {
        "id": "ry6k4qR8H7Bq"
      }
    },
    {
      "cell_type": "markdown",
      "source": [
        "#### Task # 1: Include all necessary sympy modules\n",
        "\n",
        "\n"
      ],
      "metadata": {
        "id": "G_Ua0LKbIPfK"
      }
    },
    {
      "cell_type": "code",
      "execution_count": 60,
      "metadata": {
        "id": "DPFz-qLYHiFJ"
      },
      "outputs": [],
      "source": [
        "# Import the relevant sympy modules\n",
        "from sympy import Rational, sqrt, symbols, Eq, simplify, expand"
      ]
    },
    {
      "cell_type": "markdown",
      "source": [
        "#### Task # 2: Basic calculation\n",
        "Solve for the following:\n",
        "\n",
        "- $\\frac{5}{3} + \\frac{\\sqrt{10}}{2}$\n",
        "- $\\sqrt{50} \\times \\sqrt{\\frac{5}{9}}$"
      ],
      "metadata": {
        "id": "3i4pd__LIl1X"
      }
    },
    {
      "cell_type": "code",
      "source": [
        "# Answer for the first expression here\n",
        "Rational(5,3) + sqrt(10)/2"
      ],
      "metadata": {
        "id": "Nk9U7XU8RhEH",
        "colab": {
          "base_uri": "https://localhost:8080/",
          "height": 55
        },
        "outputId": "d671aba4-aaf4-4fbf-ba73-ddf825f56816"
      },
      "execution_count": 61,
      "outputs": [
        {
          "output_type": "execute_result",
          "data": {
            "text/plain": [
              "sqrt(10)/2 + 5/3"
            ],
            "text/latex": "$\\displaystyle \\frac{\\sqrt{10}}{2} + \\frac{5}{3}$"
          },
          "metadata": {},
          "execution_count": 61
        }
      ]
    },
    {
      "cell_type": "code",
      "source": [
        "# Answer for the second expression here\n",
        "sqrt(50) * sqrt(Rational(5,9))"
      ],
      "metadata": {
        "id": "6baME6J6Rgru",
        "colab": {
          "base_uri": "https://localhost:8080/",
          "height": 55
        },
        "outputId": "51aff587-84d0-4727-f18f-d9cd629f2ed2"
      },
      "execution_count": 62,
      "outputs": [
        {
          "output_type": "execute_result",
          "data": {
            "text/plain": [
              "5*sqrt(10)/3"
            ],
            "text/latex": "$\\displaystyle \\frac{5 \\sqrt{10}}{3}$"
          },
          "metadata": {},
          "execution_count": 62
        }
      ]
    },
    {
      "cell_type": "markdown",
      "source": [
        "#### Task # 3: Symbols\n",
        "Create the equation for the following using `Symbols`:\n",
        "- $2x+3y=12$\n",
        "- $x−y=4$"
      ],
      "metadata": {
        "id": "UH2m4ur7NERn"
      }
    },
    {
      "cell_type": "code",
      "source": [
        "# Answer for the first equation here\n",
        "x, y = symbols('x y')\n",
        "Eq(2*x + 3*y, 12)"
      ],
      "metadata": {
        "id": "4RUw45azRejM",
        "colab": {
          "base_uri": "https://localhost:8080/",
          "height": 39
        },
        "outputId": "41aeb39c-8523-4866-864c-489b4aea3842"
      },
      "execution_count": 63,
      "outputs": [
        {
          "output_type": "execute_result",
          "data": {
            "text/plain": [
              "Eq(2*x + 3*y, 12)"
            ],
            "text/latex": "$\\displaystyle 2 x + 3 y = 12$"
          },
          "metadata": {},
          "execution_count": 63
        }
      ]
    },
    {
      "cell_type": "code",
      "source": [
        "# Answer for the second equation here\n",
        "Eq(x - y, 4)"
      ],
      "metadata": {
        "id": "nKlN5AeURwI6",
        "colab": {
          "base_uri": "https://localhost:8080/",
          "height": 39
        },
        "outputId": "4a397c29-bc49-4575-eaa0-64b6e85a5299"
      },
      "execution_count": 64,
      "outputs": [
        {
          "output_type": "execute_result",
          "data": {
            "text/plain": [
              "Eq(x - y, 4)"
            ],
            "text/latex": "$\\displaystyle x - y = 4$"
          },
          "metadata": {},
          "execution_count": 64
        }
      ]
    },
    {
      "cell_type": "markdown",
      "source": [
        "#### Task # 3: Simplification\n",
        "Simplify the following equations using the `simplify` method\n",
        "\n",
        "- $\\frac{x^2 + 2x + 1}{x + 1}$\n",
        "\n",
        "- $\\frac{1 - \\frac{1}{1 + \\frac{1}{x}}}{1 + \\frac{1}{x}}\n",
        "$"
      ],
      "metadata": {
        "id": "IS8vTb7FPDbQ"
      }
    },
    {
      "cell_type": "code",
      "source": [
        "# Simplify the first equation here\n",
        "simplify((x**2 + 2*x + 1)/(x + 1))"
      ],
      "metadata": {
        "id": "38CFQlfxR0TV",
        "colab": {
          "base_uri": "https://localhost:8080/",
          "height": 39
        },
        "outputId": "a1765651-31e6-4f77-e9b4-f01d4e46952b"
      },
      "execution_count": 65,
      "outputs": [
        {
          "output_type": "execute_result",
          "data": {
            "text/plain": [
              "x + 1"
            ],
            "text/latex": "$\\displaystyle x + 1$"
          },
          "metadata": {},
          "execution_count": 65
        }
      ]
    },
    {
      "cell_type": "code",
      "source": [
        "# Simplify the second equation here\n",
        "simplify((1 - 1/(1 + 1/x))/(1 + 1/x))"
      ],
      "metadata": {
        "id": "fSi0XQcWR2uo",
        "colab": {
          "base_uri": "https://localhost:8080/",
          "height": 54
        },
        "outputId": "8da93eaf-3fd7-4b16-a59b-08c45d53095b"
      },
      "execution_count": 66,
      "outputs": [
        {
          "output_type": "execute_result",
          "data": {
            "text/plain": [
              "x/(x + 1)**2"
            ],
            "text/latex": "$\\displaystyle \\frac{x}{\\left(x + 1\\right)^{2}}$"
          },
          "metadata": {},
          "execution_count": 66
        }
      ]
    },
    {
      "cell_type": "markdown",
      "source": [
        "### Task # 4: Expansion\n",
        "Expand the following expressions using the `expand` method\n",
        "- $(2x + 2)^2$\n",
        "- $(2x + y)(x - 2y)$\n"
      ],
      "metadata": {
        "id": "oXI_LJ-hRR_n"
      }
    },
    {
      "cell_type": "code",
      "source": [
        "# Expand the first equation here\n",
        "expand((2*x + 2)**2)"
      ],
      "metadata": {
        "id": "OwjWp39uS0Jb",
        "colab": {
          "base_uri": "https://localhost:8080/",
          "height": 39
        },
        "outputId": "f60e73c4-5c01-4fd9-8d6d-ad99689069c7"
      },
      "execution_count": 67,
      "outputs": [
        {
          "output_type": "execute_result",
          "data": {
            "text/plain": [
              "4*x**2 + 8*x + 4"
            ],
            "text/latex": "$\\displaystyle 4 x^{2} + 8 x + 4$"
          },
          "metadata": {},
          "execution_count": 67
        }
      ]
    },
    {
      "cell_type": "code",
      "source": [
        "# Expand the second equation here\n",
        "expand((2*x + y)*(x - 2*y))"
      ],
      "metadata": {
        "id": "g-QEmoMCS6TH",
        "colab": {
          "base_uri": "https://localhost:8080/",
          "height": 39
        },
        "outputId": "2d119272-4223-41b7-c68f-acae575a1aba"
      },
      "execution_count": 68,
      "outputs": [
        {
          "output_type": "execute_result",
          "data": {
            "text/plain": [
              "2*x**2 - 3*x*y - 2*y**2"
            ],
            "text/latex": "$\\displaystyle 2 x^{2} - 3 x y - 2 y^{2}$"
          },
          "metadata": {},
          "execution_count": 68
        }
      ]
    }
  ]
}
